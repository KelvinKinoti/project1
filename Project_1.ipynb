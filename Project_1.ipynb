{
 "cells": [
  {
   "cell_type": "code",
   "execution_count": 1,
   "metadata": {},
   "outputs": [],
   "source": [
    "import pandas as pd\n",
    "import numpy as np\n",
    "import matplotlib.pyplot as plt\n",
    "import seaborn as sns\n",
    "import warnings\n",
    "warnings.filterwarnings('ignore')"
   ]
  },
  {
   "cell_type": "code",
   "execution_count": 2,
   "metadata": {},
   "outputs": [],
   "source": [
    "df = pd.read_csv(\"AviationData.csv\", encoding='latin1', low_memory=False)\n"
   ]
  },
  {
   "cell_type": "code",
   "execution_count": 3,
   "metadata": {},
   "outputs": [
    {
     "data": {
      "text/html": [
       "<div>\n",
       "<style scoped>\n",
       "    .dataframe tbody tr th:only-of-type {\n",
       "        vertical-align: middle;\n",
       "    }\n",
       "\n",
       "    .dataframe tbody tr th {\n",
       "        vertical-align: top;\n",
       "    }\n",
       "\n",
       "    .dataframe thead th {\n",
       "        text-align: right;\n",
       "    }\n",
       "</style>\n",
       "<table border=\"1\" class=\"dataframe\">\n",
       "  <thead>\n",
       "    <tr style=\"text-align: right;\">\n",
       "      <th></th>\n",
       "      <th>Event.Id</th>\n",
       "      <th>Investigation.Type</th>\n",
       "      <th>Accident.Number</th>\n",
       "      <th>Event.Date</th>\n",
       "      <th>Location</th>\n",
       "      <th>Country</th>\n",
       "      <th>Latitude</th>\n",
       "      <th>Longitude</th>\n",
       "      <th>Airport.Code</th>\n",
       "      <th>Airport.Name</th>\n",
       "      <th>...</th>\n",
       "      <th>Purpose.of.flight</th>\n",
       "      <th>Air.carrier</th>\n",
       "      <th>Total.Fatal.Injuries</th>\n",
       "      <th>Total.Serious.Injuries</th>\n",
       "      <th>Total.Minor.Injuries</th>\n",
       "      <th>Total.Uninjured</th>\n",
       "      <th>Weather.Condition</th>\n",
       "      <th>Broad.phase.of.flight</th>\n",
       "      <th>Report.Status</th>\n",
       "      <th>Publication.Date</th>\n",
       "    </tr>\n",
       "  </thead>\n",
       "  <tbody>\n",
       "    <tr>\n",
       "      <th>0</th>\n",
       "      <td>20001218X45444</td>\n",
       "      <td>Accident</td>\n",
       "      <td>SEA87LA080</td>\n",
       "      <td>1948-10-24</td>\n",
       "      <td>MOOSE CREEK, ID</td>\n",
       "      <td>United States</td>\n",
       "      <td>NaN</td>\n",
       "      <td>NaN</td>\n",
       "      <td>NaN</td>\n",
       "      <td>NaN</td>\n",
       "      <td>...</td>\n",
       "      <td>Personal</td>\n",
       "      <td>NaN</td>\n",
       "      <td>2.0</td>\n",
       "      <td>0.0</td>\n",
       "      <td>0.0</td>\n",
       "      <td>0.0</td>\n",
       "      <td>UNK</td>\n",
       "      <td>Cruise</td>\n",
       "      <td>Probable Cause</td>\n",
       "      <td>NaN</td>\n",
       "    </tr>\n",
       "    <tr>\n",
       "      <th>1</th>\n",
       "      <td>20001218X45447</td>\n",
       "      <td>Accident</td>\n",
       "      <td>LAX94LA336</td>\n",
       "      <td>1962-07-19</td>\n",
       "      <td>BRIDGEPORT, CA</td>\n",
       "      <td>United States</td>\n",
       "      <td>NaN</td>\n",
       "      <td>NaN</td>\n",
       "      <td>NaN</td>\n",
       "      <td>NaN</td>\n",
       "      <td>...</td>\n",
       "      <td>Personal</td>\n",
       "      <td>NaN</td>\n",
       "      <td>4.0</td>\n",
       "      <td>0.0</td>\n",
       "      <td>0.0</td>\n",
       "      <td>0.0</td>\n",
       "      <td>UNK</td>\n",
       "      <td>Unknown</td>\n",
       "      <td>Probable Cause</td>\n",
       "      <td>19-09-1996</td>\n",
       "    </tr>\n",
       "    <tr>\n",
       "      <th>2</th>\n",
       "      <td>20061025X01555</td>\n",
       "      <td>Accident</td>\n",
       "      <td>NYC07LA005</td>\n",
       "      <td>1974-08-30</td>\n",
       "      <td>Saltville, VA</td>\n",
       "      <td>United States</td>\n",
       "      <td>36.922223</td>\n",
       "      <td>-81.878056</td>\n",
       "      <td>NaN</td>\n",
       "      <td>NaN</td>\n",
       "      <td>...</td>\n",
       "      <td>Personal</td>\n",
       "      <td>NaN</td>\n",
       "      <td>3.0</td>\n",
       "      <td>NaN</td>\n",
       "      <td>NaN</td>\n",
       "      <td>NaN</td>\n",
       "      <td>IMC</td>\n",
       "      <td>Cruise</td>\n",
       "      <td>Probable Cause</td>\n",
       "      <td>26-02-2007</td>\n",
       "    </tr>\n",
       "    <tr>\n",
       "      <th>3</th>\n",
       "      <td>20001218X45448</td>\n",
       "      <td>Accident</td>\n",
       "      <td>LAX96LA321</td>\n",
       "      <td>1977-06-19</td>\n",
       "      <td>EUREKA, CA</td>\n",
       "      <td>United States</td>\n",
       "      <td>NaN</td>\n",
       "      <td>NaN</td>\n",
       "      <td>NaN</td>\n",
       "      <td>NaN</td>\n",
       "      <td>...</td>\n",
       "      <td>Personal</td>\n",
       "      <td>NaN</td>\n",
       "      <td>2.0</td>\n",
       "      <td>0.0</td>\n",
       "      <td>0.0</td>\n",
       "      <td>0.0</td>\n",
       "      <td>IMC</td>\n",
       "      <td>Cruise</td>\n",
       "      <td>Probable Cause</td>\n",
       "      <td>12-09-2000</td>\n",
       "    </tr>\n",
       "    <tr>\n",
       "      <th>4</th>\n",
       "      <td>20041105X01764</td>\n",
       "      <td>Accident</td>\n",
       "      <td>CHI79FA064</td>\n",
       "      <td>1979-08-02</td>\n",
       "      <td>Canton, OH</td>\n",
       "      <td>United States</td>\n",
       "      <td>NaN</td>\n",
       "      <td>NaN</td>\n",
       "      <td>NaN</td>\n",
       "      <td>NaN</td>\n",
       "      <td>...</td>\n",
       "      <td>Personal</td>\n",
       "      <td>NaN</td>\n",
       "      <td>1.0</td>\n",
       "      <td>2.0</td>\n",
       "      <td>NaN</td>\n",
       "      <td>0.0</td>\n",
       "      <td>VMC</td>\n",
       "      <td>Approach</td>\n",
       "      <td>Probable Cause</td>\n",
       "      <td>16-04-1980</td>\n",
       "    </tr>\n",
       "  </tbody>\n",
       "</table>\n",
       "<p>5 rows × 31 columns</p>\n",
       "</div>"
      ],
      "text/plain": [
       "         Event.Id Investigation.Type Accident.Number  Event.Date  \\\n",
       "0  20001218X45444           Accident      SEA87LA080  1948-10-24   \n",
       "1  20001218X45447           Accident      LAX94LA336  1962-07-19   \n",
       "2  20061025X01555           Accident      NYC07LA005  1974-08-30   \n",
       "3  20001218X45448           Accident      LAX96LA321  1977-06-19   \n",
       "4  20041105X01764           Accident      CHI79FA064  1979-08-02   \n",
       "\n",
       "          Location        Country   Latitude   Longitude Airport.Code  \\\n",
       "0  MOOSE CREEK, ID  United States        NaN         NaN          NaN   \n",
       "1   BRIDGEPORT, CA  United States        NaN         NaN          NaN   \n",
       "2    Saltville, VA  United States  36.922223  -81.878056          NaN   \n",
       "3       EUREKA, CA  United States        NaN         NaN          NaN   \n",
       "4       Canton, OH  United States        NaN         NaN          NaN   \n",
       "\n",
       "  Airport.Name  ... Purpose.of.flight Air.carrier Total.Fatal.Injuries  \\\n",
       "0          NaN  ...          Personal         NaN                  2.0   \n",
       "1          NaN  ...          Personal         NaN                  4.0   \n",
       "2          NaN  ...          Personal         NaN                  3.0   \n",
       "3          NaN  ...          Personal         NaN                  2.0   \n",
       "4          NaN  ...          Personal         NaN                  1.0   \n",
       "\n",
       "  Total.Serious.Injuries Total.Minor.Injuries Total.Uninjured  \\\n",
       "0                    0.0                  0.0             0.0   \n",
       "1                    0.0                  0.0             0.0   \n",
       "2                    NaN                  NaN             NaN   \n",
       "3                    0.0                  0.0             0.0   \n",
       "4                    2.0                  NaN             0.0   \n",
       "\n",
       "  Weather.Condition  Broad.phase.of.flight   Report.Status Publication.Date  \n",
       "0               UNK                 Cruise  Probable Cause              NaN  \n",
       "1               UNK                Unknown  Probable Cause       19-09-1996  \n",
       "2               IMC                 Cruise  Probable Cause       26-02-2007  \n",
       "3               IMC                 Cruise  Probable Cause       12-09-2000  \n",
       "4               VMC               Approach  Probable Cause       16-04-1980  \n",
       "\n",
       "[5 rows x 31 columns]"
      ]
     },
     "execution_count": 3,
     "metadata": {},
     "output_type": "execute_result"
    }
   ],
   "source": [
    "df.head()"
   ]
  },
  {
   "cell_type": "code",
   "execution_count": 4,
   "metadata": {},
   "outputs": [
    {
     "name": "stdout",
     "output_type": "stream",
     "text": [
      "<class 'pandas.core.frame.DataFrame'>\n",
      "RangeIndex: 88889 entries, 0 to 88888\n",
      "Data columns (total 31 columns):\n",
      " #   Column                  Non-Null Count  Dtype  \n",
      "---  ------                  --------------  -----  \n",
      " 0   Event.Id                88889 non-null  object \n",
      " 1   Investigation.Type      88889 non-null  object \n",
      " 2   Accident.Number         88889 non-null  object \n",
      " 3   Event.Date              88889 non-null  object \n",
      " 4   Location                88837 non-null  object \n",
      " 5   Country                 88663 non-null  object \n",
      " 6   Latitude                34382 non-null  object \n",
      " 7   Longitude               34373 non-null  object \n",
      " 8   Airport.Code            50249 non-null  object \n",
      " 9   Airport.Name            52790 non-null  object \n",
      " 10  Injury.Severity         87889 non-null  object \n",
      " 11  Aircraft.damage         85695 non-null  object \n",
      " 12  Aircraft.Category       32287 non-null  object \n",
      " 13  Registration.Number     87572 non-null  object \n",
      " 14  Make                    88826 non-null  object \n",
      " 15  Model                   88797 non-null  object \n",
      " 16  Amateur.Built           88787 non-null  object \n",
      " 17  Number.of.Engines       82805 non-null  float64\n",
      " 18  Engine.Type             81812 non-null  object \n",
      " 19  FAR.Description         32023 non-null  object \n",
      " 20  Schedule                12582 non-null  object \n",
      " 21  Purpose.of.flight       82697 non-null  object \n",
      " 22  Air.carrier             16648 non-null  object \n",
      " 23  Total.Fatal.Injuries    77488 non-null  float64\n",
      " 24  Total.Serious.Injuries  76379 non-null  float64\n",
      " 25  Total.Minor.Injuries    76956 non-null  float64\n",
      " 26  Total.Uninjured         82977 non-null  float64\n",
      " 27  Weather.Condition       84397 non-null  object \n",
      " 28  Broad.phase.of.flight   61724 non-null  object \n",
      " 29  Report.Status           82508 non-null  object \n",
      " 30  Publication.Date        75118 non-null  object \n",
      "dtypes: float64(5), object(26)\n",
      "memory usage: 21.0+ MB\n"
     ]
    }
   ],
   "source": [
    "df.info()"
   ]
  },
  {
   "cell_type": "markdown",
   "metadata": {},
   "source": [
    "The AviationData dataset has 31 columns and 88889 rows or observations, which have both float and character data types. Next, a quick peek into the summary statisics of the numeric variables present in the dataset."
   ]
  },
  {
   "cell_type": "markdown",
   "metadata": {},
   "source": [
    "df.describe()"
   ]
  },
  {
   "cell_type": "markdown",
   "metadata": {},
   "source": [
    "What about the column names? "
   ]
  },
  {
   "cell_type": "code",
   "execution_count": 6,
   "metadata": {},
   "outputs": [
    {
     "data": {
      "text/plain": [
       "Index(['Event.Id', 'Investigation.Type', 'Accident.Number', 'Event.Date',\n",
       "       'Location', 'Country', 'Latitude', 'Longitude', 'Airport.Code',\n",
       "       'Airport.Name', 'Injury.Severity', 'Aircraft.damage',\n",
       "       'Aircraft.Category', 'Registration.Number', 'Make', 'Model',\n",
       "       'Amateur.Built', 'Number.of.Engines', 'Engine.Type', 'FAR.Description',\n",
       "       'Schedule', 'Purpose.of.flight', 'Air.carrier', 'Total.Fatal.Injuries',\n",
       "       'Total.Serious.Injuries', 'Total.Minor.Injuries', 'Total.Uninjured',\n",
       "       'Weather.Condition', 'Broad.phase.of.flight', 'Report.Status',\n",
       "       'Publication.Date'],\n",
       "      dtype='object')"
      ]
     },
     "execution_count": 6,
     "metadata": {},
     "output_type": "execute_result"
    }
   ],
   "source": [
    "df.columns"
   ]
  },
  {
   "cell_type": "markdown",
   "metadata": {},
   "source": [
    "Since the column names  have a uniform naming system there are no changes needed. Let's proceed to create a copy. "
   ]
  },
  {
   "cell_type": "code",
   "execution_count": 7,
   "metadata": {},
   "outputs": [],
   "source": [
    "df1= df.copy(deep=True)"
   ]
  },
  {
   "cell_type": "code",
   "execution_count": 9,
   "metadata": {},
   "outputs": [
    {
     "data": {
      "text/plain": [
       "Event.Id                      0\n",
       "Investigation.Type            0\n",
       "Accident.Number               0\n",
       "Event.Date                    0\n",
       "Location                     52\n",
       "Country                     226\n",
       "Latitude                  54507\n",
       "Longitude                 54516\n",
       "Airport.Code              38640\n",
       "Airport.Name              36099\n",
       "Injury.Severity            1000\n",
       "Aircraft.damage            3194\n",
       "Aircraft.Category         56602\n",
       "Registration.Number        1317\n",
       "Make                         63\n",
       "Model                        92\n",
       "Amateur.Built               102\n",
       "Number.of.Engines          6084\n",
       "Engine.Type                7077\n",
       "FAR.Description           56866\n",
       "Schedule                  76307\n",
       "Purpose.of.flight          6192\n",
       "Air.carrier               72241\n",
       "Total.Fatal.Injuries      11401\n",
       "Total.Serious.Injuries    12510\n",
       "Total.Minor.Injuries      11933\n",
       "Total.Uninjured            5912\n",
       "Weather.Condition          4492\n",
       "Broad.phase.of.flight     27165\n",
       "Report.Status              6381\n",
       "Publication.Date          13771\n",
       "dtype: int64"
      ]
     },
     "execution_count": 9,
     "metadata": {},
     "output_type": "execute_result"
    }
   ],
   "source": [
    "df1.isna().sum()"
   ]
  },
  {
   "cell_type": "markdown",
   "metadata": {},
   "source": [
    "With the dataset having 88889 observations we have to proceed to remove columns with more than half of the obersavtions missing. Additionally, any column deemed not statistically significant."
   ]
  },
  {
   "cell_type": "code",
   "execution_count": 10,
   "metadata": {},
   "outputs": [
    {
     "name": "stdout",
     "output_type": "stream",
     "text": [
      "Columns with more than 50% missing values:\n",
      "Index(['Latitude', 'Longitude', 'Aircraft.Category', 'FAR.Description',\n",
      "       'Schedule', 'Air.carrier'],\n",
      "      dtype='object')\n"
     ]
    }
   ],
   "source": [
    "half_threshold = len(df) / 2\n",
    "cols_with_half_missing = df.columns[df.isnull().sum() > half_threshold]\n",
    "\n",
    "# Print or list them\n",
    "print(\"Columns with more than 50% missing values:\")\n",
    "print(cols_with_half_missing)"
   ]
  },
  {
   "cell_type": "code",
   "execution_count": 13,
   "metadata": {},
   "outputs": [
    {
     "data": {
      "text/plain": [
       "Event.Id                      0\n",
       "Investigation.Type            0\n",
       "Accident.Number               0\n",
       "Event.Date                    0\n",
       "Location                     52\n",
       "Country                     226\n",
       "Airport.Code              38640\n",
       "Airport.Name              36099\n",
       "Injury.Severity            1000\n",
       "Aircraft.damage            3194\n",
       "Registration.Number        1317\n",
       "Make                         63\n",
       "Model                        92\n",
       "Amateur.Built               102\n",
       "Number.of.Engines          6084\n",
       "Engine.Type                7077\n",
       "Purpose.of.flight          6192\n",
       "Total.Fatal.Injuries      11401\n",
       "Total.Serious.Injuries    12510\n",
       "Total.Minor.Injuries      11933\n",
       "Total.Uninjured            5912\n",
       "Weather.Condition          4492\n",
       "Broad.phase.of.flight     27165\n",
       "Report.Status              6381\n",
       "Publication.Date          13771\n",
       "dtype: int64"
      ]
     },
     "execution_count": 13,
     "metadata": {},
     "output_type": "execute_result"
    }
   ],
   "source": [
    "df1 = df1.dropna(thresh=half_threshold, axis=1)\n",
    "df1.isna().sum()"
   ]
  },
  {
   "cell_type": "code",
   "execution_count": 14,
   "metadata": {},
   "outputs": [
    {
     "name": "stdout",
     "output_type": "stream",
     "text": [
      "<class 'pandas.core.frame.DataFrame'>\n",
      "RangeIndex: 88889 entries, 0 to 88888\n",
      "Data columns (total 25 columns):\n",
      " #   Column                  Non-Null Count  Dtype  \n",
      "---  ------                  --------------  -----  \n",
      " 0   Event.Id                88889 non-null  object \n",
      " 1   Investigation.Type      88889 non-null  object \n",
      " 2   Accident.Number         88889 non-null  object \n",
      " 3   Event.Date              88889 non-null  object \n",
      " 4   Location                88837 non-null  object \n",
      " 5   Country                 88663 non-null  object \n",
      " 6   Airport.Code            50249 non-null  object \n",
      " 7   Airport.Name            52790 non-null  object \n",
      " 8   Injury.Severity         87889 non-null  object \n",
      " 9   Aircraft.damage         85695 non-null  object \n",
      " 10  Registration.Number     87572 non-null  object \n",
      " 11  Make                    88826 non-null  object \n",
      " 12  Model                   88797 non-null  object \n",
      " 13  Amateur.Built           88787 non-null  object \n",
      " 14  Number.of.Engines       82805 non-null  float64\n",
      " 15  Engine.Type             81812 non-null  object \n",
      " 16  Purpose.of.flight       82697 non-null  object \n",
      " 17  Total.Fatal.Injuries    77488 non-null  float64\n",
      " 18  Total.Serious.Injuries  76379 non-null  float64\n",
      " 19  Total.Minor.Injuries    76956 non-null  float64\n",
      " 20  Total.Uninjured         82977 non-null  float64\n",
      " 21  Weather.Condition       84397 non-null  object \n",
      " 22  Broad.phase.of.flight   61724 non-null  object \n",
      " 23  Report.Status           82508 non-null  object \n",
      " 24  Publication.Date        75118 non-null  object \n",
      "dtypes: float64(5), object(20)\n",
      "memory usage: 17.0+ MB\n"
     ]
    }
   ],
   "source": [
    "df1.info()"
   ]
  },
  {
   "cell_type": "code",
   "execution_count": 16,
   "metadata": {},
   "outputs": [
    {
     "name": "stdout",
     "output_type": "stream",
     "text": [
      "Event.Id — 87951 unique values\n",
      "['20001218X45444' '20001218X45447' '20061025X01555' '20001218X45448'\n",
      " '20041105X01764' '20170710X52551' '20001218X45446' '20020909X01562'\n",
      " '20020909X01561' '20020909X01560']\n",
      "----------------------------------------\n",
      "Investigation.Type — 2 unique values\n",
      "['Accident' 'Incident']\n",
      "----------------------------------------\n",
      "Accident.Number — 88863 unique values\n",
      "['SEA87LA080' 'LAX94LA336' 'NYC07LA005' 'LAX96LA321' 'CHI79FA064'\n",
      " 'NYC79AA106' 'CHI81LA106' 'SEA82DA022' 'NYC82DA015' 'MIA82DA029']\n",
      "----------------------------------------\n",
      "Event.Date — 14782 unique values\n",
      "['1948-10-24' '1962-07-19' '1974-08-30' '1977-06-19' '1979-08-02'\n",
      " '1979-09-17' '1981-08-01' '1982-01-01' '1982-01-02' '1982-01-03']\n",
      "----------------------------------------\n",
      "Location — 27759 unique values\n",
      "['MOOSE CREEK, ID' 'BRIDGEPORT, CA' 'Saltville, VA' 'EUREKA, CA'\n",
      " 'Canton, OH' 'BOSTON, MA' 'COTTON, MN' 'PULLMAN, WA' 'EAST HANOVER, NJ'\n",
      " 'JACKSONVILLE, FL']\n",
      "----------------------------------------\n",
      "Country — 220 unique values\n",
      "['United States' nan 'GULF OF MEXICO' 'Puerto Rico' 'ATLANTIC OCEAN'\n",
      " 'HIGH ISLAND' 'Bahamas' 'MISSING' 'Pakistan' 'Angola']\n",
      "----------------------------------------\n",
      "Airport.Code — 10376 unique values\n",
      "[nan 'N58' 'JAX' 'T72' '5G6' 'YIP' '49G' 'PDK' 'VNY' 'SOP']\n",
      "----------------------------------------\n",
      "Airport.Name — 24872 unique values\n",
      "[nan 'BLACKBURN AG STRIP' 'HANOVER' 'JACKSONVILLE INTL' 'TUSKEGEE'\n",
      " 'HEARNE MUNICIPAL' 'FIELD RANCH' 'CHERRY SPRINGS' 'WILLOW RUN'\n",
      " 'TINKERBELL']\n",
      "----------------------------------------\n",
      "Injury.Severity — 110 unique values\n",
      "['Fatal(2)' 'Fatal(4)' 'Fatal(3)' 'Fatal(1)' 'Non-Fatal' 'Incident'\n",
      " 'Fatal(8)' 'Fatal(78)' 'Fatal(7)' 'Fatal(6)']\n",
      "----------------------------------------\n",
      "Aircraft.damage — 5 unique values\n",
      "['Destroyed' 'Substantial' 'Minor' nan 'Unknown']\n",
      "----------------------------------------\n",
      "Registration.Number — 79106 unique values\n",
      "['NC6404' 'N5069P' 'N5142R' 'N1168J' 'N15NY' 'CF-TLU' 'N4988E' 'N2482N'\n",
      " 'N7967Q' 'N3906K']\n",
      "----------------------------------------\n",
      "Make — 8238 unique values\n",
      "['Stinson' 'Piper' 'Cessna' 'Rockwell' 'Mcdonnell Douglas'\n",
      " 'North American' 'Beech' 'Bellanca' 'Navion' 'Enstrom']\n",
      "----------------------------------------\n",
      "Model — 12319 unique values\n",
      "['108-3' 'PA24-180' '172M' '112' '501' 'DC9' '180' '140' '401B'\n",
      " 'NAVION L-17B']\n",
      "----------------------------------------\n",
      "Amateur.Built — 3 unique values\n",
      "['No' 'Yes' nan]\n",
      "----------------------------------------\n",
      "Number.of.Engines — 8 unique values\n",
      "[ 1. nan  2.  0.  3.  4.  8.  6.]\n",
      "----------------------------------------\n",
      "Engine.Type — 14 unique values\n",
      "['Reciprocating' nan 'Turbo Fan' 'Turbo Shaft' 'Unknown' 'Turbo Prop'\n",
      " 'Turbo Jet' 'None' 'Electric' 'Hybrid Rocket']\n",
      "----------------------------------------\n",
      "Purpose.of.flight — 27 unique values\n",
      "['Personal' nan 'Business' 'Instructional' 'Unknown' 'Ferry'\n",
      " 'Executive/corporate' 'Aerial Observation' 'Aerial Application'\n",
      " 'Public Aircraft']\n",
      "----------------------------------------\n",
      "Total.Fatal.Injuries — 126 unique values\n",
      "[ 2.  4.  3.  1. nan  0.  8. 78.  7.  6.]\n",
      "----------------------------------------\n",
      "Total.Serious.Injuries — 51 unique values\n",
      "[ 0. nan  2.  1.  6.  4.  5. 10.  3.  8.]\n",
      "----------------------------------------\n",
      "Total.Minor.Injuries — 58 unique values\n",
      "[ 0. nan  1.  3.  2.  4. 24.  6.  5. 25.]\n",
      "----------------------------------------\n",
      "Total.Uninjured — 380 unique values\n",
      "[  0.  nan  44.   2.   1.   3.   6.   4. 149.  12.]\n",
      "----------------------------------------\n",
      "Weather.Condition — 5 unique values\n",
      "['UNK' 'IMC' 'VMC' nan 'Unk']\n",
      "----------------------------------------\n",
      "Broad.phase.of.flight — 13 unique values\n",
      "['Cruise' 'Unknown' 'Approach' 'Climb' 'Takeoff' 'Landing' 'Taxi'\n",
      " 'Descent' 'Maneuvering' 'Standing']\n",
      "----------------------------------------\n",
      "Report.Status — 17076 unique values\n",
      "['Probable Cause' 'Factual' 'Foreign' 'Preliminary'\n",
      " \"The departing pilot's inadequate visual lookout.\"\n",
      " \"The pilot's failure to maintain directional control.  A contributing factor was the prevailing crosswind.\"\n",
      " \"the student pilot's premature flare resulting in the loss of aircraft control.\"\n",
      " \"The pilot's inadequate compensation for wind conditions.  A factor in the accident was the wind gust.\"\n",
      " \"The line technician's failure to remain clear of the propeller.  A factor was the night lighting conditions.\"\n",
      " nan]\n",
      "----------------------------------------\n",
      "Publication.Date — 2925 unique values\n",
      "[nan '19-09-1996' '26-02-2007' '12-09-2000' '16-04-1980' '19-09-2017'\n",
      " '06-11-2001' '01-01-1982' '02-01-1983' '03-01-1983']\n",
      "----------------------------------------\n"
     ]
    }
   ],
   "source": [
    "for col in df1.columns:\n",
    "    unique_vals = df1[col].unique()\n",
    "    print(f\"{col} — {len(unique_vals)} unique values\")\n",
    "    print(unique_vals[:10])  # Show first 10 unique values\n",
    "    print(\"-\" * 40)\n"
   ]
  },
  {
   "cell_type": "markdown",
   "metadata": {},
   "source": [
    "The above steps check the unique values in each of the remaining columns. Given the large size of this dataset, it is safe to assume that columns whose unique values caount is the close to or same as the total observations can be considered as not relevant for any analysis. This is because they do bring much value or rather have nothing to offer research wise. These columns are Event.Id, Accident.Number, and Registration.Number."
   ]
  },
  {
   "cell_type": "code",
   "execution_count": 17,
   "metadata": {},
   "outputs": [],
   "source": [
    "columns_to_drop = ['Event.Id', 'Accident.Number', 'Registration.Number']\n",
    "df1 = df1.drop(columns=columns_to_drop, )\n"
   ]
  },
  {
   "cell_type": "code",
   "execution_count": 18,
   "metadata": {},
   "outputs": [
    {
     "name": "stdout",
     "output_type": "stream",
     "text": [
      "<class 'pandas.core.frame.DataFrame'>\n",
      "RangeIndex: 88889 entries, 0 to 88888\n",
      "Columns: 22 entries, Investigation.Type to Publication.Date\n",
      "dtypes: float64(5), object(17)\n",
      "memory usage: 14.9+ MB\n"
     ]
    }
   ],
   "source": [
    "df1.info(verbose=False)"
   ]
  },
  {
   "cell_type": "code",
   "execution_count": null,
   "metadata": {
    "collapsed": true
   },
   "outputs": [],
   "source": [
    "Now let's deal with the missing values in the object dtype columns by replacing the missing values with \"unknown'. This was preferred instead of mode since the missing values are many and cause to much skeweness.  "
   ]
  },
  {
   "cell_type": "code",
   "execution_count": 19,
   "metadata": {},
   "outputs": [],
   "source": [
    "for col in df1.select_dtypes(include=['object']).columns:\n",
    "    df1[col] = df1[col].fillna('Unknown')\n"
   ]
  },
  {
   "cell_type": "code",
   "execution_count": null,
   "metadata": {},
   "outputs": [],
   "source": [
    "For the numeric dtypes we can replace the unkowns with mean"
   ]
  },
  {
   "cell_type": "code",
   "execution_count": 21,
   "metadata": {},
   "outputs": [],
   "source": [
    "for col in df1.select_dtypes(include='float').columns:\n",
    "    if df1[col].isnull().any():\n",
    "        mean_val = df1[col].mean()\n",
    "        df1[col] = df1[col].fillna(mean_val)"
   ]
  },
  {
   "cell_type": "code",
   "execution_count": 22,
   "metadata": {},
   "outputs": [
    {
     "data": {
      "text/plain": [
       "Investigation.Type        0\n",
       "Event.Date                0\n",
       "Location                  0\n",
       "Country                   0\n",
       "Airport.Code              0\n",
       "Airport.Name              0\n",
       "Injury.Severity           0\n",
       "Aircraft.damage           0\n",
       "Make                      0\n",
       "Model                     0\n",
       "Amateur.Built             0\n",
       "Number.of.Engines         0\n",
       "Engine.Type               0\n",
       "Purpose.of.flight         0\n",
       "Total.Fatal.Injuries      0\n",
       "Total.Serious.Injuries    0\n",
       "Total.Minor.Injuries      0\n",
       "Total.Uninjured           0\n",
       "Weather.Condition         0\n",
       "Broad.phase.of.flight     0\n",
       "Report.Status             0\n",
       "Publication.Date          0\n",
       "dtype: int64"
      ]
     },
     "execution_count": 22,
     "metadata": {},
     "output_type": "execute_result"
    }
   ],
   "source": [
    "df1.isna().sum()"
   ]
  },
  {
   "cell_type": "code",
   "execution_count": 23,
   "metadata": {},
   "outputs": [],
   "source": [
    "assert type(df) == pd.DataFrame"
   ]
  },
  {
   "cell_type": "code",
   "execution_count": 24,
   "metadata": {},
   "outputs": [
    {
     "name": "stdout",
     "output_type": "stream",
     "text": [
      "<class 'pandas.core.frame.DataFrame'>\n",
      "RangeIndex: 88889 entries, 0 to 88888\n",
      "Data columns (total 22 columns):\n",
      " #   Column                  Non-Null Count  Dtype  \n",
      "---  ------                  --------------  -----  \n",
      " 0   Investigation.Type      88889 non-null  object \n",
      " 1   Event.Date              88889 non-null  object \n",
      " 2   Location                88889 non-null  object \n",
      " 3   Country                 88889 non-null  object \n",
      " 4   Airport.Code            88889 non-null  object \n",
      " 5   Airport.Name            88889 non-null  object \n",
      " 6   Injury.Severity         88889 non-null  object \n",
      " 7   Aircraft.damage         88889 non-null  object \n",
      " 8   Make                    88889 non-null  object \n",
      " 9   Model                   88889 non-null  object \n",
      " 10  Amateur.Built           88889 non-null  object \n",
      " 11  Number.of.Engines       88889 non-null  float64\n",
      " 12  Engine.Type             88889 non-null  object \n",
      " 13  Purpose.of.flight       88889 non-null  object \n",
      " 14  Total.Fatal.Injuries    88889 non-null  float64\n",
      " 15  Total.Serious.Injuries  88889 non-null  float64\n",
      " 16  Total.Minor.Injuries    88889 non-null  float64\n",
      " 17  Total.Uninjured         88889 non-null  float64\n",
      " 18  Weather.Condition       88889 non-null  object \n",
      " 19  Broad.phase.of.flight   88889 non-null  object \n",
      " 20  Report.Status           88889 non-null  object \n",
      " 21  Publication.Date        88889 non-null  object \n",
      "dtypes: float64(5), object(17)\n",
      "memory usage: 14.9+ MB\n"
     ]
    }
   ],
   "source": [
    "df1.info()"
   ]
  },
  {
   "cell_type": "code",
   "execution_count": null,
   "metadata": {},
   "outputs": [],
   "source": [
    "# Exploratort Data Analysis"
   ]
  },
  {
   "cell_type": "code",
   "execution_count": 30,
   "metadata": {},
   "outputs": [
    {
     "name": "stdout",
     "output_type": "stream",
     "text": [
      "Top 10 Locations:\n",
      "ANCHORAGE, AK      434\n",
      "MIAMI, FL          200\n",
      "ALBUQUERQUE, NM    196\n",
      "HOUSTON, TX        193\n",
      "CHICAGO, IL        184\n",
      "FAIRBANKS, AK      174\n",
      "TUCSON, AZ         142\n",
      "ORLANDO, FL        132\n",
      "PHOENIX, AZ        132\n",
      "ENGLEWOOD, CO      131\n",
      "\n",
      "Top 10 Countries:\n",
      "United States     82248\n",
      "Brazil              374\n",
      "Canada              359\n",
      "Mexico              358\n",
      "United Kingdom      344\n",
      "Australia           300\n",
      "France              236\n",
      "Unknown             229\n",
      "Spain               226\n",
      "Bahamas             216\n",
      "\n",
      "Top 10 Makes:\n",
      "Cessna     22227\n",
      "Piper      12029\n",
      "CESSNA      4922\n",
      "Beech       4330\n",
      "PIPER       2841\n",
      "Bell        2134\n",
      "Boeing      1594\n",
      "BOEING      1151\n",
      "Grumman     1094\n",
      "Mooney      1092\n",
      "\n",
      "Top 10 Models:\n",
      "152          2367\n",
      "172          1756\n",
      "172N         1164\n",
      "PA-28-140     932\n",
      "150           829\n",
      "172M          798\n",
      "172P          689\n",
      "182           659\n",
      "180           622\n",
      "150M          585\n",
      "\n"
     ]
    }
   ],
   "source": [
    "# Top 10 Locations\n",
    "print(\"Top 10 Locations:\")\n",
    "print(df1['Location'].value_counts().head(10).to_string()+\"\\n\")\n",
    "\n",
    "# Top 10 Countries\n",
    "print(\"Top 10 Countries:\")\n",
    "print(df1['Country'].value_counts().head(10).to_string()+\"\\n\")\n",
    "\n",
    "\n",
    "# Top 10 Makes\n",
    "print(\"Top 10 Makes:\")\n",
    "print(df1['Make'].value_counts().head(10).to_string()+\"\\n\")\n",
    "\n",
    "\n",
    "# Top 10 Models\n",
    "print(\"Top 10 Models:\")\n",
    "print(df1['Model'].value_counts().head(10).to_string()+\"\\n\")\n"
   ]
  },
  {
   "cell_type": "code",
   "execution_count": null,
   "metadata": {},
   "outputs": [],
   "source": []
  }
 ],
 "metadata": {
  "kernelspec": {
   "display_name": "Python (learn-env)",
   "language": "python",
   "name": "learn-env"
  },
  "language_info": {
   "codemirror_mode": {
    "name": "ipython",
    "version": 3
   },
   "file_extension": ".py",
   "mimetype": "text/x-python",
   "name": "python",
   "nbconvert_exporter": "python",
   "pygments_lexer": "ipython3",
   "version": "3.8.5"
  }
 },
 "nbformat": 4,
 "nbformat_minor": 5
}
